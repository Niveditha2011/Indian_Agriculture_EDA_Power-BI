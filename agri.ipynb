{
 "cells": [
  {
   "cell_type": "code",
   "execution_count": null,
   "metadata": {},
   "outputs": [],
   "source": [
    "!pip install mysql-connector-python   "
   ]
  },
  {
   "cell_type": "code",
   "execution_count": 5,
   "metadata": {},
   "outputs": [],
   "source": [
    "import pandas as pd\n",
    "import numpy as np\n",
    "import matplotlib.pyplot as plt\n",
    "import mysql.connector\n",
    "import seaborn as sns"
   ]
  },
  {
   "cell_type": "code",
   "execution_count": null,
   "metadata": {},
   "outputs": [],
   "source": [
    "#read file\n",
    "df = pd.read_csv(r\"C:\\Users\\Python Class\\Agridata_Project2\\ICRISAT-District Level Data - ICRISAT-District Level Data.csv\",encoding = 'unicode_escape')  #avoid encoding error\n",
    "# Standardize column names\n",
    "df.columns = df.columns.str.strip().str.lower().str.replace(\" \", \"_\")\n",
    "# Remove duplicate rows\n",
    "df.drop_duplicates(inplace=True)\n",
    "df.head()"
   ]
  },
  {
   "cell_type": "code",
   "execution_count": null,
   "metadata": {},
   "outputs": [],
   "source": [
    "#titb\n",
    "# import mysql.connector\n",
    "\n",
    "# connection = mysql.connector.connect(\n",
    "#   host = \"gateway01.ap-southeast-1.prod.aws.tidbcloud.com\",\n",
    "#   port = 4000,\n",
    "#   user = \"2XWsHPpwQA4Z6ce.root\",\n",
    "#   password = \"lFu7DqRUZThvq3kn\",\n",
    "#   database = \"Agricultural_Data\",\n",
    " \n",
    "# )\n",
    "# mycursor=connection.cursor()"
   ]
  },
  {
   "cell_type": "code",
   "execution_count": null,
   "metadata": {},
   "outputs": [],
   "source": [
    "# #php admin\n",
    "# import mysql.connector\n",
    "# mydb = mysql.connector.connect(\n",
    "#     host=\"localhost\",\n",
    "#     port = 3306,\n",
    "#     user=\"root\",\n",
    "#     password=\"\",\n",
    "# )\n",
    "# mycursor = mydb.cursor(buffered=True) # cursor is like api to connect to server"
   ]
  },
  {
   "cell_type": "code",
   "execution_count": 7,
   "metadata": {},
   "outputs": [
    {
     "name": "stdout",
     "output_type": "stream",
     "text": [
      "Requirement already satisfied: mysql-connector-python in c:\\users\\nithu\\appdata\\local\\programs\\python\\python312\\lib\\site-packages (9.2.0)Note: you may need to restart the kernel to use updated packages.\n",
      "\n"
     ]
    },
    {
     "name": "stderr",
     "output_type": "stream",
     "text": [
      "\n",
      "[notice] A new release of pip is available: 24.3.1 -> 25.0.1\n",
      "[notice] To update, run: python.exe -m pip install --upgrade pip\n"
     ]
    }
   ],
   "source": [
    "pip install mysql-connector-python"
   ]
  },
  {
   "cell_type": "code",
   "execution_count": 8,
   "metadata": {},
   "outputs": [],
   "source": [
    "import mysql.connector\n",
    "mydb = mysql.connector.connect(\n",
    "    host=\"localhost\",\n",
    "    port = 3310,\n",
    "    user=\"root\",\n",
    "    password=\"Nivi20\",\n",
    ")\n",
    "mycursor = mydb.cursor(buffered=True) # cursor is like api to connect to server"
   ]
  },
  {
   "cell_type": "code",
   "execution_count": 9,
   "metadata": {},
   "outputs": [],
   "source": [
    "#creation of database\n",
    "mycursor.execute(\"create database Agricultural_Data\")"
   ]
  },
  {
   "cell_type": "code",
   "execution_count": 11,
   "metadata": {},
   "outputs": [
    {
     "name": "stdout",
     "output_type": "stream",
     "text": [
      "Data successfully inserted into MySQL!\n"
     ]
    },
    {
     "name": "stderr",
     "output_type": "stream",
     "text": [
      "C:\\Users\\nithu\\AppData\\Local\\Temp\\ipykernel_22440\\2409675830.py:20: UserWarning: The provided table name 'Crops_Data' is not found exactly as such in the database after writing the table, possibly due to case sensitivity issues. Consider using lower case table names.\n",
      "  df.to_sql(\"Crops_Data\", engine, if_exists=\"replace\", index=False)\n"
     ]
    }
   ],
   "source": [
    "import pandas as pd\n",
    "from sqlalchemy import create_engine\n",
    "\n",
    "\n",
    "# 1️⃣ MySQL/TiDB Connection Details\n",
    "host = \"localhost\",\n",
    "port = 3310,\n",
    "user = \"root\",\n",
    "password = \"Nivi20\",\n",
    "database = \"Agricultural_Data\",\n",
    "\n",
    "# 2️⃣ Create an SQLAlchemy Engine -  it acts as a connection point between your application and the database.\n",
    "# engine = create_engine(f\"mysql+mysqlconnector://{user}:{password}@{host}:{port}/{database}\")\n",
    "engine = create_engine(f\"mysql+mysqlconnector://{\"root\"}:{\"Nivi20\"}@{\"localhost\"}:{3310}/{\"Agricultural_Data\"}\")\n",
    "\n",
    "# 3️⃣ Read CSV into DataFrame\n",
    "df = pd.read_csv(r\"C:\\Users\\Python Class\\Agridata_Project2\\ICRISAT-District Level Data - ICRISAT-District Level Data.csv\")\n",
    "\n",
    "# 4️⃣ Move DataFrame into SQL Table\n",
    "df.to_sql(\"Crops_Data\", engine, if_exists=\"replace\", index=False)\n",
    "\n",
    "\n",
    "print(\"Data successfully inserted into MySQL!\")"
   ]
  }
 ],
 "metadata": {
  "kernelspec": {
   "display_name": "Python 3",
   "language": "python",
   "name": "python3"
  },
  "language_info": {
   "codemirror_mode": {
    "name": "ipython",
    "version": 3
   },
   "file_extension": ".py",
   "mimetype": "text/x-python",
   "name": "python",
   "nbconvert_exporter": "python",
   "pygments_lexer": "ipython3",
   "version": "3.12.8"
  }
 },
 "nbformat": 4,
 "nbformat_minor": 2
}
